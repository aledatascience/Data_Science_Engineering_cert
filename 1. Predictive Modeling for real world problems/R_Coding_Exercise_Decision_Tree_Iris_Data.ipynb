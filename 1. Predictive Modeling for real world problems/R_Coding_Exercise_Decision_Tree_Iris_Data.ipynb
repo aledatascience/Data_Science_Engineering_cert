{
 "cells": [
  {
   "cell_type": "markdown",
   "metadata": {},
   "source": [
    "Data Science Dojo <br/>\n",
    "Copyright(c) 2016-2020<br/>\n",
    "\n",
    "---\n",
    "\n",
    "**Objective:** Building a decision tree classification model to predict the species of Iris flowers<br/>\n",
    "\n",
    "<b>Note</b>: The below libraries are already installed on the learning portal to run this exercise.<br/>\n",
    "If you would like to run this code on your local machine using R studio or Jupyter Notebook, please run the below install commands in your command line or R studio. <br/>\n",
    "If you would like to run this code on your local Jupyter Notebook, you can also run the below install commands in a new cell of jupyter notebook instead of command line.<br/>\n",
    "\n",
    "Please install \"rpart\" package: `install.packages(\"rpart\")`<br/>"
   ]
  },
  {
   "cell_type": "code",
   "execution_count": 1,
   "metadata": {},
   "outputs": [],
   "source": [
    "# Load the library for this exercise\n",
    "# NOTE: Please ignore the warning messages\n",
    "library(rpart)"
   ]
  },
  {
   "cell_type": "markdown",
   "metadata": {},
   "source": [
    "### The Iris dataset\n",
    "Before building a model for predicting the species of Iris flowers, we first need to read and explore the Iris dataset.\n",
    "\n",
    "#### Dataset description\n",
    "**Iris:** This iris data set gives the measurements in centimeters of the variables sepal length and width and petal length and width, respectively, for 50 flowers from each of 3 species of iris. The species are Iris setosa, versicolor, and virginica. __[Click here to read more](https://www.rdocumentation.org/packages/datasets/versions/3.6.2/topics/iris)__."
   ]
  },
  {
   "cell_type": "code",
   "execution_count": 2,
   "metadata": {},
   "outputs": [],
   "source": [
    "# Load the iris dataset into memory     \n",
    "data(iris) "
   ]
  },
  {
   "cell_type": "code",
   "execution_count": 3,
   "metadata": {},
   "outputs": [
    {
     "data": {
      "text/html": [
       "<ol class=list-inline>\n",
       "\t<li>150</li>\n",
       "\t<li>5</li>\n",
       "</ol>\n"
      ],
      "text/latex": [
       "\\begin{enumerate*}\n",
       "\\item 150\n",
       "\\item 5\n",
       "\\end{enumerate*}\n"
      ],
      "text/markdown": [
       "1. 150\n",
       "2. 5\n",
       "\n",
       "\n"
      ],
      "text/plain": [
       "[1] 150   5"
      ]
     },
     "metadata": {},
     "output_type": "display_data"
    }
   ],
   "source": [
    "# View the dimension of the dataset   \n",
    "dim(iris)"
   ]
  },
  {
   "cell_type": "code",
   "execution_count": 4,
   "metadata": {},
   "outputs": [
    {
     "data": {
      "text/html": [
       "<table>\n",
       "<thead><tr><th scope=col>Sepal.Length</th><th scope=col>Sepal.Width</th><th scope=col>Petal.Length</th><th scope=col>Petal.Width</th><th scope=col>Species</th></tr></thead>\n",
       "<tbody>\n",
       "\t<tr><td>5.1   </td><td>3.5   </td><td>1.4   </td><td>0.2   </td><td>setosa</td></tr>\n",
       "\t<tr><td>4.9   </td><td>3.0   </td><td>1.4   </td><td>0.2   </td><td>setosa</td></tr>\n",
       "\t<tr><td>4.7   </td><td>3.2   </td><td>1.3   </td><td>0.2   </td><td>setosa</td></tr>\n",
       "\t<tr><td>4.6   </td><td>3.1   </td><td>1.5   </td><td>0.2   </td><td>setosa</td></tr>\n",
       "\t<tr><td>5.0   </td><td>3.6   </td><td>1.4   </td><td>0.2   </td><td>setosa</td></tr>\n",
       "\t<tr><td>5.4   </td><td>3.9   </td><td>1.7   </td><td>0.4   </td><td>setosa</td></tr>\n",
       "</tbody>\n",
       "</table>\n"
      ],
      "text/latex": [
       "\\begin{tabular}{r|lllll}\n",
       " Sepal.Length & Sepal.Width & Petal.Length & Petal.Width & Species\\\\\n",
       "\\hline\n",
       "\t 5.1    & 3.5    & 1.4    & 0.2    & setosa\\\\\n",
       "\t 4.9    & 3.0    & 1.4    & 0.2    & setosa\\\\\n",
       "\t 4.7    & 3.2    & 1.3    & 0.2    & setosa\\\\\n",
       "\t 4.6    & 3.1    & 1.5    & 0.2    & setosa\\\\\n",
       "\t 5.0    & 3.6    & 1.4    & 0.2    & setosa\\\\\n",
       "\t 5.4    & 3.9    & 1.7    & 0.4    & setosa\\\\\n",
       "\\end{tabular}\n"
      ],
      "text/markdown": [
       "\n",
       "Sepal.Length | Sepal.Width | Petal.Length | Petal.Width | Species | \n",
       "|---|---|---|---|---|---|\n",
       "| 5.1    | 3.5    | 1.4    | 0.2    | setosa | \n",
       "| 4.9    | 3.0    | 1.4    | 0.2    | setosa | \n",
       "| 4.7    | 3.2    | 1.3    | 0.2    | setosa | \n",
       "| 4.6    | 3.1    | 1.5    | 0.2    | setosa | \n",
       "| 5.0    | 3.6    | 1.4    | 0.2    | setosa | \n",
       "| 5.4    | 3.9    | 1.7    | 0.4    | setosa | \n",
       "\n",
       "\n"
      ],
      "text/plain": [
       "  Sepal.Length Sepal.Width Petal.Length Petal.Width Species\n",
       "1 5.1          3.5         1.4          0.2         setosa \n",
       "2 4.9          3.0         1.4          0.2         setosa \n",
       "3 4.7          3.2         1.3          0.2         setosa \n",
       "4 4.6          3.1         1.5          0.2         setosa \n",
       "5 5.0          3.6         1.4          0.2         setosa \n",
       "6 5.4          3.9         1.7          0.4         setosa "
      ]
     },
     "metadata": {},
     "output_type": "display_data"
    }
   ],
   "source": [
    "# View the first few rows of the dataset   \n",
    "head(iris)"
   ]
  },
  {
   "cell_type": "code",
   "execution_count": 5,
   "metadata": {},
   "outputs": [
    {
     "name": "stdout",
     "output_type": "stream",
     "text": [
      "'data.frame':\t150 obs. of  5 variables:\n",
      " $ Sepal.Length: num  5.1 4.9 4.7 4.6 5 5.4 4.6 5 4.4 4.9 ...\n",
      " $ Sepal.Width : num  3.5 3 3.2 3.1 3.6 3.9 3.4 3.4 2.9 3.1 ...\n",
      " $ Petal.Length: num  1.4 1.4 1.3 1.5 1.4 1.7 1.4 1.5 1.4 1.5 ...\n",
      " $ Petal.Width : num  0.2 0.2 0.2 0.2 0.2 0.4 0.3 0.2 0.2 0.1 ...\n",
      " $ Species     : Factor w/ 3 levels \"setosa\",\"versicolor\",..: 1 1 1 1 1 1 1 1 1 1 ...\n"
     ]
    }
   ],
   "source": [
    "# View the struture of the dataset   \n",
    "str(iris)"
   ]
  },
  {
   "cell_type": "code",
   "execution_count": 6,
   "metadata": {},
   "outputs": [
    {
     "data": {
      "text/plain": [
       "  Sepal.Length    Sepal.Width     Petal.Length    Petal.Width   \n",
       " Min.   :4.300   Min.   :2.000   Min.   :1.000   Min.   :0.100  \n",
       " 1st Qu.:5.100   1st Qu.:2.800   1st Qu.:1.600   1st Qu.:0.300  \n",
       " Median :5.800   Median :3.000   Median :4.350   Median :1.300  \n",
       " Mean   :5.843   Mean   :3.057   Mean   :3.758   Mean   :1.199  \n",
       " 3rd Qu.:6.400   3rd Qu.:3.300   3rd Qu.:5.100   3rd Qu.:1.800  \n",
       " Max.   :7.900   Max.   :4.400   Max.   :6.900   Max.   :2.500  \n",
       "       Species  \n",
       " setosa    :50  \n",
       " versicolor:50  \n",
       " virginica :50  \n",
       "                \n",
       "                \n",
       "                "
      ]
     },
     "metadata": {},
     "output_type": "display_data"
    }
   ],
   "source": [
    "# View the summary statistics of the dataset\n",
    "summary(iris)"
   ]
  },
  {
   "cell_type": "markdown",
   "metadata": {},
   "source": [
    "### Building the model\n",
    "\n",
    "Build and train a model to classify the different Iris species."
   ]
  },
  {
   "cell_type": "code",
   "execution_count": 7,
   "metadata": {},
   "outputs": [],
   "source": [
    "# Randomly sample 70% of the rows in the dataset to use as our training set rows\n",
    "train.index <- sample(1:nrow(iris), 0.7*nrow(iris)) "
   ]
  },
  {
   "cell_type": "code",
   "execution_count": 8,
   "metadata": {},
   "outputs": [
    {
     "data": {
      "text/html": [
       "<ol class=list-inline>\n",
       "\t<li>105</li>\n",
       "\t<li>5</li>\n",
       "</ol>\n"
      ],
      "text/latex": [
       "\\begin{enumerate*}\n",
       "\\item 105\n",
       "\\item 5\n",
       "\\end{enumerate*}\n"
      ],
      "text/markdown": [
       "1. 105\n",
       "2. 5\n",
       "\n",
       "\n"
      ],
      "text/plain": [
       "[1] 105   5"
      ]
     },
     "metadata": {},
     "output_type": "display_data"
    }
   ],
   "source": [
    "# Assign these randomly selected 70% of rows to our training subset of data\n",
    "iris.train <- iris[train.index,  ] \n",
    "dim(iris.train)"
   ]
  },
  {
   "cell_type": "code",
   "execution_count": 9,
   "metadata": {},
   "outputs": [
    {
     "data": {
      "text/html": [
       "<ol class=list-inline>\n",
       "\t<li>45</li>\n",
       "\t<li>5</li>\n",
       "</ol>\n"
      ],
      "text/latex": [
       "\\begin{enumerate*}\n",
       "\\item 45\n",
       "\\item 5\n",
       "\\end{enumerate*}\n"
      ],
      "text/markdown": [
       "1. 45\n",
       "2. 5\n",
       "\n",
       "\n"
      ],
      "text/plain": [
       "[1] 45  5"
      ]
     },
     "metadata": {},
     "output_type": "display_data"
    }
   ],
   "source": [
    "# Use the remaining 30% as the testing set\n",
    "iris.test <- iris[-train.index,  ]\n",
    "dim(iris.test)"
   ]
  },
  {
   "cell_type": "code",
   "execution_count": 10,
   "metadata": {},
   "outputs": [],
   "source": [
    "# Default decision tree model\n",
    "# Builds a decision tree from the iris dataset to predict species given all other columns as predictors\n",
    "iris.tree <- rpart(Species ~., data = iris.train)  "
   ]
  },
  {
   "cell_type": "markdown",
   "metadata": {},
   "source": [
    "### Visualizing the model\n",
    "\n",
    "Let's look how the decision tree model looks visually for the Iris dataset."
   ]
  },
  {
   "cell_type": "code",
   "execution_count": 11,
   "metadata": {},
   "outputs": [
    {
     "data": {
      "image/png": "[encoded data removed]",
      "text/plain": [
       "Plot with title “Decision Tree Model of Iris Data”"
      ]
     },
     "metadata": {},
     "output_type": "display_data"
    }
   ],
   "source": [
    "# Visualize the model\n",
    "# Plot the tree structure\n",
    "plot(iris.tree, margin = c(0.25))\n",
    "title(main = \"Decision Tree Model of Iris Data\")\n",
    "text(iris.tree, use.n = TRUE)"
   ]
  },
  {
   "cell_type": "code",
   "execution_count": 12,
   "metadata": {},
   "outputs": [
    {
     "data": {
      "image/png": "[encoded data removed]",
      "text/plain": [
       "Plot with title “Analyzing petal length across different flower species”"
      ]
     },
     "metadata": {},
     "output_type": "display_data"
    }
   ],
   "source": [
    "# Let's see how the Petal.Length looks across different species    \n",
    "boxplot(Petal.Length ~ Species, data = iris.train, main=\"Analyzing petal length across different flower species\",\n",
    "        xlab=\"Species\",\n",
    "        ylab=\"Petal Length (cm)\")"
   ]
  },
  {
   "cell_type": "code",
   "execution_count": 13,
   "metadata": {},
   "outputs": [
    {
     "data": {
      "text/plain": [
       "n= 105 \n",
       "\n",
       "node), split, n, loss, yval, (yprob)\n",
       "      * denotes terminal node\n",
       "\n",
       "1) root 105 67 virginica (0.32380952 0.31428571 0.36190476)  \n",
       "  2) Petal.Length< 2.6 34  0 setosa (1.00000000 0.00000000 0.00000000) *\n",
       "  3) Petal.Length>=2.6 71 33 virginica (0.00000000 0.46478873 0.53521127)  \n",
       "    6) Petal.Width< 1.75 35  3 versicolor (0.00000000 0.91428571 0.08571429) *\n",
       "    7) Petal.Width>=1.75 36  1 virginica (0.00000000 0.02777778 0.97222222) *"
      ]
     },
     "metadata": {},
     "output_type": "display_data"
    }
   ],
   "source": [
    "# Print the iris.tree model\n",
    "iris.tree"
   ]
  },
  {
   "cell_type": "markdown",
   "metadata": {},
   "source": [
    "### Model predictions\n",
    "\n",
    "We will use the test data to make predict the iris species using the model we built."
   ]
  },
  {
   "cell_type": "code",
   "execution_count": 14,
   "metadata": {},
   "outputs": [
    {
     "data": {
      "text/html": [
       "<dl class=dl-horizontal>\n",
       "\t<dt>1</dt>\n",
       "\t\t<dd>setosa</dd>\n",
       "\t<dt>2</dt>\n",
       "\t\t<dd>setosa</dd>\n",
       "\t<dt>4</dt>\n",
       "\t\t<dd>setosa</dd>\n",
       "\t<dt>8</dt>\n",
       "\t\t<dd>setosa</dd>\n",
       "\t<dt>9</dt>\n",
       "\t\t<dd>setosa</dd>\n",
       "\t<dt>14</dt>\n",
       "\t\t<dd>setosa</dd>\n",
       "</dl>\n",
       "\n",
       "<details>\n",
       "\t<summary style=display:list-item;cursor:pointer>\n",
       "\t\t<strong>Levels</strong>:\n",
       "\t</summary>\n",
       "\t<ol class=list-inline>\n",
       "\t\t<li>'setosa'</li>\n",
       "\t\t<li>'versicolor'</li>\n",
       "\t\t<li>'virginica'</li>\n",
       "\t</ol>\n",
       "</details>"
      ],
      "text/latex": [
       "\\begin{description*}\n",
       "\\item[1] setosa\n",
       "\\item[2] setosa\n",
       "\\item[4] setosa\n",
       "\\item[8] setosa\n",
       "\\item[9] setosa\n",
       "\\item[14] setosa\n",
       "\\end{description*}\n",
       "\n",
       "\\emph{Levels}: \\begin{enumerate*}\n",
       "\\item 'setosa'\n",
       "\\item 'versicolor'\n",
       "\\item 'virginica'\n",
       "\\end{enumerate*}\n"
      ],
      "text/markdown": [
       "1\n",
       ":   setosa2\n",
       ":   setosa4\n",
       ":   setosa8\n",
       ":   setosa9\n",
       ":   setosa14\n",
       ":   setosa\n",
       "\n",
       "\n",
       "**Levels**: 1. 'setosa'\n",
       "2. 'versicolor'\n",
       "3. 'virginica'\n",
       "\n",
       "\n"
      ],
      "text/plain": [
       "     1      2      4      8      9     14 \n",
       "setosa setosa setosa setosa setosa setosa \n",
       "Levels: setosa versicolor virginica"
      ]
     },
     "metadata": {},
     "output_type": "display_data"
    }
   ],
   "source": [
    "# Predict iris species given test data using the decision model\n",
    "iris.predictions <- predict(iris.tree, iris.test, type = \"class\")\n",
    "head(iris.predictions)"
   ]
  },
  {
   "cell_type": "code",
   "execution_count": 15,
   "metadata": {},
   "outputs": [
    {
     "data": {
      "text/html": [
       "<table>\n",
       "<thead><tr><th></th><th scope=col>setosa</th><th scope=col>versicolor</th><th scope=col>virginica</th></tr></thead>\n",
       "<tbody>\n",
       "\t<tr><th scope=row>1</th><td>1</td><td>0</td><td>0</td></tr>\n",
       "\t<tr><th scope=row>2</th><td>1</td><td>0</td><td>0</td></tr>\n",
       "\t<tr><th scope=row>4</th><td>1</td><td>0</td><td>0</td></tr>\n",
       "\t<tr><th scope=row>8</th><td>1</td><td>0</td><td>0</td></tr>\n",
       "\t<tr><th scope=row>9</th><td>1</td><td>0</td><td>0</td></tr>\n",
       "\t<tr><th scope=row>14</th><td>1</td><td>0</td><td>0</td></tr>\n",
       "</tbody>\n",
       "</table>\n"
      ],
      "text/latex": [
       "\\begin{tabular}{r|lll}\n",
       "  & setosa & versicolor & virginica\\\\\n",
       "\\hline\n",
       "\t1 & 1 & 0 & 0\\\\\n",
       "\t2 & 1 & 0 & 0\\\\\n",
       "\t4 & 1 & 0 & 0\\\\\n",
       "\t8 & 1 & 0 & 0\\\\\n",
       "\t9 & 1 & 0 & 0\\\\\n",
       "\t14 & 1 & 0 & 0\\\\\n",
       "\\end{tabular}\n"
      ],
      "text/markdown": [
       "\n",
       "| <!--/--> | setosa | versicolor | virginica | \n",
       "|---|---|---|---|---|---|\n",
       "| 1 | 1 | 0 | 0 | \n",
       "| 2 | 1 | 0 | 0 | \n",
       "| 4 | 1 | 0 | 0 | \n",
       "| 8 | 1 | 0 | 0 | \n",
       "| 9 | 1 | 0 | 0 | \n",
       "| 14 | 1 | 0 | 0 | \n",
       "\n",
       "\n"
      ],
      "text/plain": [
       "   setosa versicolor virginica\n",
       "1  1      0          0        \n",
       "2  1      0          0        \n",
       "4  1      0          0        \n",
       "8  1      0          0        \n",
       "9  1      0          0        \n",
       "14 1      0          0        "
      ]
     },
     "metadata": {},
     "output_type": "display_data"
    }
   ],
   "source": [
    "# Predicted values can also be probabilities,instead of class labels\n",
    "iris.predictions.prob <- predict(iris.tree, iris.test, type = \"prob\")\n",
    "head(iris.predictions.prob)"
   ]
  },
  {
   "cell_type": "code",
   "execution_count": 16,
   "metadata": {},
   "outputs": [
    {
     "data": {
      "text/html": [
       "<table>\n",
       "<thead><tr><th></th><th scope=col>Species</th><th scope=col>Predictions</th></tr></thead>\n",
       "<tbody>\n",
       "\t<tr><th scope=row>1</th><td>setosa    </td><td>setosa    </td></tr>\n",
       "\t<tr><th scope=row>2</th><td>setosa    </td><td>setosa    </td></tr>\n",
       "\t<tr><th scope=row>4</th><td>setosa    </td><td>setosa    </td></tr>\n",
       "\t<tr><th scope=row>8</th><td>setosa    </td><td>setosa    </td></tr>\n",
       "\t<tr><th scope=row>9</th><td>setosa    </td><td>setosa    </td></tr>\n",
       "\t<tr><th scope=row>14</th><td>setosa    </td><td>setosa    </td></tr>\n",
       "\t<tr><th scope=row>16</th><td>setosa    </td><td>setosa    </td></tr>\n",
       "\t<tr><th scope=row>20</th><td>setosa    </td><td>setosa    </td></tr>\n",
       "\t<tr><th scope=row>21</th><td>setosa    </td><td>setosa    </td></tr>\n",
       "\t<tr><th scope=row>27</th><td>setosa    </td><td>setosa    </td></tr>\n",
       "\t<tr><th scope=row>30</th><td>setosa    </td><td>setosa    </td></tr>\n",
       "\t<tr><th scope=row>37</th><td>setosa    </td><td>setosa    </td></tr>\n",
       "\t<tr><th scope=row>40</th><td>setosa    </td><td>setosa    </td></tr>\n",
       "\t<tr><th scope=row>43</th><td>setosa    </td><td>setosa    </td></tr>\n",
       "\t<tr><th scope=row>46</th><td>setosa    </td><td>setosa    </td></tr>\n",
       "\t<tr><th scope=row>47</th><td>setosa    </td><td>setosa    </td></tr>\n",
       "\t<tr><th scope=row>51</th><td>versicolor</td><td>versicolor</td></tr>\n",
       "\t<tr><th scope=row>52</th><td>versicolor</td><td>versicolor</td></tr>\n",
       "\t<tr><th scope=row>54</th><td>versicolor</td><td>versicolor</td></tr>\n",
       "\t<tr><th scope=row>56</th><td>versicolor</td><td>versicolor</td></tr>\n",
       "\t<tr><th scope=row>57</th><td>versicolor</td><td>versicolor</td></tr>\n",
       "\t<tr><th scope=row>63</th><td>versicolor</td><td>versicolor</td></tr>\n",
       "\t<tr><th scope=row>65</th><td>versicolor</td><td>versicolor</td></tr>\n",
       "\t<tr><th scope=row>66</th><td>versicolor</td><td>versicolor</td></tr>\n",
       "\t<tr><th scope=row>67</th><td>versicolor</td><td>versicolor</td></tr>\n",
       "\t<tr><th scope=row>72</th><td>versicolor</td><td>versicolor</td></tr>\n",
       "\t<tr><th scope=row>74</th><td>versicolor</td><td>versicolor</td></tr>\n",
       "\t<tr><th scope=row>82</th><td>versicolor</td><td>versicolor</td></tr>\n",
       "\t<tr><th scope=row>88</th><td>versicolor</td><td>versicolor</td></tr>\n",
       "\t<tr><th scope=row>93</th><td>versicolor</td><td>versicolor</td></tr>\n",
       "\t<tr><th scope=row>96</th><td>versicolor</td><td>versicolor</td></tr>\n",
       "\t<tr><th scope=row>98</th><td>versicolor</td><td>versicolor</td></tr>\n",
       "\t<tr><th scope=row>99</th><td>versicolor</td><td>versicolor</td></tr>\n",
       "\t<tr><th scope=row>106</th><td>virginica </td><td>virginica </td></tr>\n",
       "\t<tr><th scope=row>107</th><td>virginica </td><td>versicolor</td></tr>\n",
       "\t<tr><th scope=row>108</th><td>virginica </td><td>virginica </td></tr>\n",
       "\t<tr><th scope=row>111</th><td>virginica </td><td>virginica </td></tr>\n",
       "\t<tr><th scope=row>118</th><td>virginica </td><td>virginica </td></tr>\n",
       "\t<tr><th scope=row>125</th><td>virginica </td><td>virginica </td></tr>\n",
       "\t<tr><th scope=row>126</th><td>virginica </td><td>virginica </td></tr>\n",
       "\t<tr><th scope=row>129</th><td>virginica </td><td>virginica </td></tr>\n",
       "\t<tr><th scope=row>134</th><td>virginica </td><td>versicolor</td></tr>\n",
       "\t<tr><th scope=row>138</th><td>virginica </td><td>virginica </td></tr>\n",
       "\t<tr><th scope=row>148</th><td>virginica </td><td>virginica </td></tr>\n",
       "\t<tr><th scope=row>149</th><td>virginica </td><td>virginica </td></tr>\n",
       "</tbody>\n",
       "</table>\n"
      ],
      "text/latex": [
       "\\begin{tabular}{r|ll}\n",
       "  & Species & Predictions\\\\\n",
       "\\hline\n",
       "\t1 & setosa     & setosa    \\\\\n",
       "\t2 & setosa     & setosa    \\\\\n",
       "\t4 & setosa     & setosa    \\\\\n",
       "\t8 & setosa     & setosa    \\\\\n",
       "\t9 & setosa     & setosa    \\\\\n",
       "\t14 & setosa     & setosa    \\\\\n",
       "\t16 & setosa     & setosa    \\\\\n",
       "\t20 & setosa     & setosa    \\\\\n",
       "\t21 & setosa     & setosa    \\\\\n",
       "\t27 & setosa     & setosa    \\\\\n",
       "\t30 & setosa     & setosa    \\\\\n",
       "\t37 & setosa     & setosa    \\\\\n",
       "\t40 & setosa     & setosa    \\\\\n",
       "\t43 & setosa     & setosa    \\\\\n",
       "\t46 & setosa     & setosa    \\\\\n",
       "\t47 & setosa     & setosa    \\\\\n",
       "\t51 & versicolor & versicolor\\\\\n",
       "\t52 & versicolor & versicolor\\\\\n",
       "\t54 & versicolor & versicolor\\\\\n",
       "\t56 & versicolor & versicolor\\\\\n",
       "\t57 & versicolor & versicolor\\\\\n",
       "\t63 & versicolor & versicolor\\\\\n",
       "\t65 & versicolor & versicolor\\\\\n",
       "\t66 & versicolor & versicolor\\\\\n",
       "\t67 & versicolor & versicolor\\\\\n",
       "\t72 & versicolor & versicolor\\\\\n",
       "\t74 & versicolor & versicolor\\\\\n",
       "\t82 & versicolor & versicolor\\\\\n",
       "\t88 & versicolor & versicolor\\\\\n",
       "\t93 & versicolor & versicolor\\\\\n",
       "\t96 & versicolor & versicolor\\\\\n",
       "\t98 & versicolor & versicolor\\\\\n",
       "\t99 & versicolor & versicolor\\\\\n",
       "\t106 & virginica  & virginica \\\\\n",
       "\t107 & virginica  & versicolor\\\\\n",
       "\t108 & virginica  & virginica \\\\\n",
       "\t111 & virginica  & virginica \\\\\n",
       "\t118 & virginica  & virginica \\\\\n",
       "\t125 & virginica  & virginica \\\\\n",
       "\t126 & virginica  & virginica \\\\\n",
       "\t129 & virginica  & virginica \\\\\n",
       "\t134 & virginica  & versicolor\\\\\n",
       "\t138 & virginica  & virginica \\\\\n",
       "\t148 & virginica  & virginica \\\\\n",
       "\t149 & virginica  & virginica \\\\\n",
       "\\end{tabular}\n"
      ],
      "text/markdown": [
       "\n",
       "| <!--/--> | Species | Predictions | \n",
       "|---|---|---|---|---|---|---|---|---|---|---|---|---|---|---|---|---|---|---|---|---|---|---|---|---|---|---|---|---|---|---|---|---|---|---|---|---|---|---|---|---|---|---|---|---|\n",
       "| 1 | setosa     | setosa     | \n",
       "| 2 | setosa     | setosa     | \n",
       "| 4 | setosa     | setosa     | \n",
       "| 8 | setosa     | setosa     | \n",
       "| 9 | setosa     | setosa     | \n",
       "| 14 | setosa     | setosa     | \n",
       "| 16 | setosa     | setosa     | \n",
       "| 20 | setosa     | setosa     | \n",
       "| 21 | setosa     | setosa     | \n",
       "| 27 | setosa     | setosa     | \n",
       "| 30 | setosa     | setosa     | \n",
       "| 37 | setosa     | setosa     | \n",
       "| 40 | setosa     | setosa     | \n",
       "| 43 | setosa     | setosa     | \n",
       "| 46 | setosa     | setosa     | \n",
       "| 47 | setosa     | setosa     | \n",
       "| 51 | versicolor | versicolor | \n",
       "| 52 | versicolor | versicolor | \n",
       "| 54 | versicolor | versicolor | \n",
       "| 56 | versicolor | versicolor | \n",
       "| 57 | versicolor | versicolor | \n",
       "| 63 | versicolor | versicolor | \n",
       "| 65 | versicolor | versicolor | \n",
       "| 66 | versicolor | versicolor | \n",
       "| 67 | versicolor | versicolor | \n",
       "| 72 | versicolor | versicolor | \n",
       "| 74 | versicolor | versicolor | \n",
       "| 82 | versicolor | versicolor | \n",
       "| 88 | versicolor | versicolor | \n",
       "| 93 | versicolor | versicolor | \n",
       "| 96 | versicolor | versicolor | \n",
       "| 98 | versicolor | versicolor | \n",
       "| 99 | versicolor | versicolor | \n",
       "| 106 | virginica  | virginica  | \n",
       "| 107 | virginica  | versicolor | \n",
       "| 108 | virginica  | virginica  | \n",
       "| 111 | virginica  | virginica  | \n",
       "| 118 | virginica  | virginica  | \n",
       "| 125 | virginica  | virginica  | \n",
       "| 126 | virginica  | virginica  | \n",
       "| 129 | virginica  | virginica  | \n",
       "| 134 | virginica  | versicolor | \n",
       "| 138 | virginica  | virginica  | \n",
       "| 148 | virginica  | virginica  | \n",
       "| 149 | virginica  | virginica  | \n",
       "\n",
       "\n"
      ],
      "text/plain": [
       "    Species    Predictions\n",
       "1   setosa     setosa     \n",
       "2   setosa     setosa     \n",
       "4   setosa     setosa     \n",
       "8   setosa     setosa     \n",
       "9   setosa     setosa     \n",
       "14  setosa     setosa     \n",
       "16  setosa     setosa     \n",
       "20  setosa     setosa     \n",
       "21  setosa     setosa     \n",
       "27  setosa     setosa     \n",
       "30  setosa     setosa     \n",
       "37  setosa     setosa     \n",
       "40  setosa     setosa     \n",
       "43  setosa     setosa     \n",
       "46  setosa     setosa     \n",
       "47  setosa     setosa     \n",
       "51  versicolor versicolor \n",
       "52  versicolor versicolor \n",
       "54  versicolor versicolor \n",
       "56  versicolor versicolor \n",
       "57  versicolor versicolor \n",
       "63  versicolor versicolor \n",
       "65  versicolor versicolor \n",
       "66  versicolor versicolor \n",
       "67  versicolor versicolor \n",
       "72  versicolor versicolor \n",
       "74  versicolor versicolor \n",
       "82  versicolor versicolor \n",
       "88  versicolor versicolor \n",
       "93  versicolor versicolor \n",
       "96  versicolor versicolor \n",
       "98  versicolor versicolor \n",
       "99  versicolor versicolor \n",
       "106 virginica  virginica  \n",
       "107 virginica  versicolor \n",
       "108 virginica  virginica  \n",
       "111 virginica  virginica  \n",
       "118 virginica  virginica  \n",
       "125 virginica  virginica  \n",
       "126 virginica  virginica  \n",
       "129 virginica  virginica  \n",
       "134 virginica  versicolor \n",
       "138 virginica  virginica  \n",
       "148 virginica  virginica  \n",
       "149 virginica  virginica  "
      ]
     },
     "metadata": {},
     "output_type": "display_data"
    }
   ],
   "source": [
    "# Comparison table of actual values and predicted values\n",
    "iris.comparison <- iris.test\n",
    "iris.comparison$Predictions <- iris.predictions\n",
    "iris.comparison[ , c(\"Species\", \"Predictions\")]"
   ]
  },
  {
   "cell_type": "code",
   "execution_count": 17,
   "metadata": {},
   "outputs": [
    {
     "data": {
      "text/html": [
       "<table>\n",
       "<thead><tr><th></th><th scope=col>Sepal.Length</th><th scope=col>Sepal.Width</th><th scope=col>Petal.Length</th><th scope=col>Petal.Width</th><th scope=col>Species</th><th scope=col>Predictions</th></tr></thead>\n",
       "<tbody>\n",
       "\t<tr><th scope=row>107</th><td>4.9       </td><td>2.5       </td><td>4.5       </td><td>1.7       </td><td>virginica </td><td>versicolor</td></tr>\n",
       "\t<tr><th scope=row>134</th><td>6.3       </td><td>2.8       </td><td>5.1       </td><td>1.5       </td><td>virginica </td><td>versicolor</td></tr>\n",
       "</tbody>\n",
       "</table>\n"
      ],
      "text/latex": [
       "\\begin{tabular}{r|llllll}\n",
       "  & Sepal.Length & Sepal.Width & Petal.Length & Petal.Width & Species & Predictions\\\\\n",
       "\\hline\n",
       "\t107 & 4.9        & 2.5        & 4.5        & 1.7        & virginica  & versicolor\\\\\n",
       "\t134 & 6.3        & 2.8        & 5.1        & 1.5        & virginica  & versicolor\\\\\n",
       "\\end{tabular}\n"
      ],
      "text/markdown": [
       "\n",
       "| <!--/--> | Sepal.Length | Sepal.Width | Petal.Length | Petal.Width | Species | Predictions | \n",
       "|---|---|\n",
       "| 107 | 4.9        | 2.5        | 4.5        | 1.7        | virginica  | versicolor | \n",
       "| 134 | 6.3        | 2.8        | 5.1        | 1.5        | virginica  | versicolor | \n",
       "\n",
       "\n"
      ],
      "text/plain": [
       "    Sepal.Length Sepal.Width Petal.Length Petal.Width Species   Predictions\n",
       "107 4.9          2.5         4.5          1.7         virginica versicolor \n",
       "134 6.3          2.8         5.1          1.5         virginica versicolor "
      ]
     },
     "metadata": {},
     "output_type": "display_data"
    }
   ],
   "source": [
    "# View misclassified rows\n",
    "disagreement.index <- iris.comparison$Species != iris.comparison$Predictions \n",
    "iris.comparison[disagreement.index, ]"
   ]
  },
  {
   "cell_type": "markdown",
   "metadata": {},
   "source": [
    "### Regression decision tree\n",
    "\n",
    "Using decision tree, we can also build a regression model where the outcome is a predicted number instead of a predicted class."
   ]
  },
  {
   "cell_type": "code",
   "execution_count": 18,
   "metadata": {},
   "outputs": [],
   "source": [
    "# Use method \"anova\" as a parameter to set a regression decision tree model\n",
    "iris.tree <- rpart(Petal.Length ~ ., data = iris.train, method=\"anova\")"
   ]
  },
  {
   "cell_type": "markdown",
   "metadata": {},
   "source": [
    "### Further practice\n",
    "\n",
    "Another library called \"party\" can be also used to build decision trees. It provides nonparametric regression trees for nominal, ordinal, numeric, censored, and multivariate responses. Tree growth is based on statistical stopping rules, so pruning should not be required. \n",
    "\n",
    "See `party` manual: http://cran.r-project.org/web/packages/party/party.pdf \n",
    "\n",
    "Instead of `rpart()`, try to use `ctree()` in `party` for the same data. They implement a different algorithm for building the tree. But for this small amount of data, do these different functions (with different algorithms) actually give us different trees?"
   ]
  },
  {
   "cell_type": "markdown",
   "metadata": {},
   "source": [
    "### Reproducible results with set.seed() "
   ]
  },
  {
   "cell_type": "markdown",
   "metadata": {},
   "source": [
    "The sample() function used above randomly selects 105 rows from the 150 in the dataset. So, the train.index stores 105 numbers corresponding to the 105 rows. However, the row numbers stored in train.index is not always fixed. If we run `train.index <- sample(1:nrow(iris), 0.7*nrow(iris))` again, the numbers in train.index will be changed. As a result, the training data will be changed.  \n",
    "\n",
    "+ Try running this code repeatedly and see how the output changes everytme.\n",
    "\n",
    "  + `sample(1:10, 5)`  "
   ]
  },
  {
   "cell_type": "markdown",
   "metadata": {},
   "source": [
    "Often, we want our code to reproduce the exact same set of random numbers. We can use the `set.seed()` function to do this.  The `set.seed()` function takes an integer argument. Once the `set.seed()` has been used, the output of all the subsequent random operations, such as `sample()` get fixed, which ensures reproducability of the results.   \n",
    "\n",
    "+ Try running sample(1:10, 5) again but after setting the seed as 100  \n",
    "    + `set.seed(100)`\n",
    "    + `sample(1:10, 5)` \n",
    "    \n",
    "    \n",
    "+ Now try running sample(1:10, 5) again after changing the seed to 999   \n",
    "    + `set.seed(999)`\n",
    "    + `sample(1:10, 5)`  \n",
    "    \n",
    "+ Change the seed back to 100 to see how you get the same results   \n",
    "    + `set.seed(100)`\n",
    "    + `sample(1:10, 5)`  "
   ]
  },
  {
   "cell_type": "code",
   "execution_count": null,
   "metadata": {},
   "outputs": [],
   "source": []
  }
 ],
 "metadata": {
  "kernelspec": {
   "display_name": "R",
   "language": "R",
   "name": "ir"
  },
  "language_info": {
   "codemirror_mode": "r",
   "file_extension": ".r",
   "mimetype": "text/x-r-source",
   "name": "R",
   "pygments_lexer": "r",
   "version": "3.4.1"
  }
 },
 "nbformat": 4,
 "nbformat_minor": 4
}
